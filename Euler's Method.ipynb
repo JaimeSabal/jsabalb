{
 "cells": [
  {
   "cell_type": "markdown",
   "metadata": {},
   "source": [
    "## Euler's Method: Obtaining Solutions to ODE's Numerically\n",
    "\n",
    "#### Author: Jaime Sabal\n",
    "#### Date: 03/07/2020\n",
    "\n",
    "In this notebook we explore the extent to which Euler's Method can be used to accurately obtain the solution to an ordinary differential equation. Euler's method follows from the definition of a derivative by the Fundamental Theorem of Calculus:\n",
    "\n",
    "$$\n",
    "\\frac{dx}{dt} = \\lim_{dt\\to0} \\frac{x(t+dt)-x(t)}{dt}\n",
    "$$\n",
    "\n",
    "Moreover, using the approximation that\n",
    "\n",
    "$$ \\frac{dx}{dt} \\approx \\frac{x(t+dt)-x(t)}{dt} $$\n",
    "\n",
    "and subsituting in a simple 1st-order ordinary differential equation (ODE):\n",
    "\n",
    "$$ \\frac{dx}{dt} = -Ax $$\n",
    "\n",
    "we can rearrange to solve for $x(t+dt)$ as a function of $x(t)$:\n",
    "\n",
    "$$ x(t+h) = x(t) -Axh, $$\n",
    "\n",
    "We can thus iteratively solve this ODE, where $h=dt$ is the step taken between each iteration, given some initial condition $x(t_0) = x_0$. More specifically, the update performed on the function upon each increase in the independent variable: $t \\rightarrow t+h$, will have the form\n",
    "\n",
    "$$ x[i+1] = x[i] - A*x[i]*h $$"
   ]
  },
  {
   "cell_type": "markdown",
   "metadata": {},
   "source": [
    "### Importing Necessary Libraries\n",
    "\n",
    "We start off by importing the necessary libraries: `numpy`, `matplotlib`, which will facilitate the calculations and visualisations done."
   ]
  },
  {
   "cell_type": "code",
   "execution_count": 2,
   "metadata": {},
   "outputs": [],
   "source": [
    "import numpy as np \n",
    "import matplotlib.pyplot as plt\n",
    "import time"
   ]
  },
  {
   "cell_type": "markdown",
   "metadata": {},
   "source": [
    "### Defining Necessary Constants that will be Used Throughout Notebook:"
   ]
  },
  {
   "cell_type": "code",
   "execution_count": 3,
   "metadata": {},
   "outputs": [],
   "source": [
    "#Limits in array of independent variable (t):\n",
    "t_max = 5 #upper t limit \n",
    "t_min = 0 #lower t limit\n",
    "\n",
    "A = 1 #constant in ODE\n",
    "x0 = 1 #initial condition"
   ]
  },
  {
   "cell_type": "markdown",
   "metadata": {},
   "source": [
    "### Defining a Python function that calculates the solution to any first-order ODE:"
   ]
  },
  {
   "cell_type": "code",
   "execution_count": 9,
   "metadata": {},
   "outputs": [],
   "source": [
    "#defining function to perform Euler's Method of solving first-order ODE's numerically\n",
    "def eulers_method(t_min, t_max, h,x0):\n",
    "    \"\"\" Calculates the solution to any first-order ODE for which the derivative of\n",
    "    a function only depends on the function itself. It requires some initial condition \n",
    "    that x(t0)=x0, where t0 is the entry at index 0 of the array of values t. \n",
    "    \n",
    "    Parameters:\n",
    "    · f (function): derivative of function that will be calculated.\n",
    "    · t_min (float/int): smallest value in function domain\n",
    "    · t_max (float/int): largest value in function domain\n",
    "    · h (float): step size in iteration\n",
    "    · x0 (float): initial condition; value of wanted function at time t0 \n",
    "    (index 0 of array t).\n",
    "    \n",
    "    Outputs:\n",
    "    · t (1D NumPy array): array of values for the independent variable of the ODE\n",
    "    · x (1D NumPy array): the computed approximation to the solution of the ODE \n",
    "    from Euler's Method.\n",
    "    · time (float): time taken to compute function in seconds\n",
    "    \"\"\"\n",
    "    import time\n",
    "    import math #importing math library\n",
    "    \n",
    "    x = [] #initialise array of values for our solution\n",
    "    x.append(x0) #append our initial condition x0\n",
    "    \n",
    "    #finding upper bound for array of values for independent variable\n",
    "    #equal to multiple of h that is closest to t_max without surpassing it\n",
    "    upper_bound = t_max-(t_max%h)\n",
    "    \n",
    "    #setting array of values for independent variable   \n",
    "    t = np.linspace(t_min,upper_bound,math.ceil((t_max-t_min)/h))\n",
    "    \n",
    "    start = time.time() #start timer \n",
    "    \n",
    "    #calculate solution iteratively\n",
    "    for i in range(0,len(t)-1):\n",
    "        x.append(x[i]+ODE(x[i])*(t[i+1]-t[i]))\n",
    "    \n",
    "    end = time.time() #end timer\n",
    "    \n",
    "    #return array of steps used in iteration\n",
    "    # as well as complete array of values for solution \n",
    "    time = end-start\n",
    "    return t,x,time"
   ]
  },
  {
   "cell_type": "markdown",
   "metadata": {},
   "source": [
    "### Defining a Python function for the Differential Equation"
   ]
  },
  {
   "cell_type": "code",
   "execution_count": 10,
   "metadata": {},
   "outputs": [],
   "source": [
    "def ODE(x):\n",
    "    \"\"\"Returns the value of the differential equation dx/dt=-A*x(t) for a given x and t.\n",
    "    \n",
    "    Parameters:\n",
    "    · x (float): Value of independent variable x that our derivative is dependent on.\n",
    "    · t (float): Value of dependent variable t that x is dependent on.\n",
    "    · global variable A (float/int): constant of proportionality between the derivative\n",
    "    of a function and the function itself.\n",
    "    \n",
    "    Output: \n",
    "    · dx (float): Value of derivative dx/dt for the specified x and t\n",
    "    \"\"\"\n",
    "    global A\n",
    "    \n",
    "    deriv_x = -A*x\n",
    "    return deriv_x"
   ]
  },
  {
   "cell_type": "markdown",
   "metadata": {},
   "source": [
    "### Obtaining a Numerical Solution to ODE:\n",
    "\n",
    "Next, we will use the defined functions `eulers_method` and `ODE` to obtain a numerical solution to the specified ordinary differential equation:\n",
    "\n",
    "$$ \\frac{dx}{dt} = -x $$\n",
    "\n",
    "where, for simplicity, $A=1$. Moroever, we will use the initial condition that $x(t=0)=1$ and a value for the step size of $h=0.9$*. Furthemore, we will use a range of values $0 \\leq t \\leq 5$ to appreciate well the difference between the analytic and numerical solutions later on (since they're asymptotic and both tend to 0 for large values of t)\n",
    "\n",
    "*Note that we must choose a step size small enough that we dont overshoot $x(t)$ to a value outside its known range (this being $x \\epsilon  [0,\\infty]$). For this reason, the step size we choose must be $0 < h < 1$."
   ]
  },
  {
   "cell_type": "code",
   "execution_count": 11,
   "metadata": {},
   "outputs": [
    {
     "name": "stdout",
     "output_type": "stream",
     "text": [
      "The array of values for the solution to the differential equation across all t:\n",
      " [1, 0.09999999999999998, 0.009999999999999995, 0.0009999999999999974, 9.999999999999983e-05, 9.999999999999986e-06]\n"
     ]
    }
   ],
   "source": [
    "h1 = 0.9 #step size\n",
    "\n",
    "#calling our function to solve the differential equation\n",
    "t_num1,x1,time1 = eulers_method(t_min,t_max,h1,x0)\n",
    "\n",
    "print(\"The array of values for the solution to the differential equation across all t:\\n\"\n",
    "      , x1)"
   ]
  },
  {
   "cell_type": "markdown",
   "metadata": {},
   "source": [
    "### Plotting and Comparing with Analytical Solution:\n",
    "\n",
    "Since the above ordinary differential equation is separable, we can solve it analytically as such:\n",
    "\n",
    "$$ \\frac{dx}{x} = -t $$\n",
    "\n",
    "$$ln(x) = -t + C$$\n",
    "\n",
    "$$x(t) = e^{-t+C} = e^{C}e^{-t}$$\n",
    "\n",
    "In this case we have defined our initial condition to be $x(t=0)=1$, and hence by plugging this into the equation above we get:\n",
    "\n",
    "$$ x(t=0) = e^{C}e^{0} = 1$$\n",
    "\n",
    "$$ \\therefore e^{C} = 1 $$\n",
    "\n",
    "Resulting in the final analytic solution to the ODE:\n",
    "\n",
    "$$x(t) = e^{-t}$$\n",
    "\n",
    "We can plot this result using the `matplotlib` library and compare it with the acquired numerical solution:"
   ]
  },
  {
   "cell_type": "code",
   "execution_count": 12,
   "metadata": {},
   "outputs": [
    {
     "name": "stdout",
     "output_type": "stream",
     "text": [
      "The time taken to calculate each solution:\n",
      "Numerical with h=0.90: time=0.00002 seconds\n",
      "Analytic: time=0.00036 seconds\n"
     ]
    },
    {
     "data": {
      "image/png": "[encoded data removed]",
      "text/plain": [
       "<Figure size 432x288 with 1 Axes>"
      ]
     },
     "metadata": {
      "needs_background": "light"
     },
     "output_type": "display_data"
    }
   ],
   "source": [
    "#Analytic solution\n",
    "start_anal = time.time() #timer start\n",
    "t_anal = np.linspace(0,5,500)\n",
    "x_anal = np.exp(-t_anal)\n",
    "end_anal = time.time() #timer end\n",
    "\n",
    "#Time taken to calculate analytic solution\n",
    "time_anal = end_anal-start_anal\n",
    "\n",
    "#Plotting both solutions in a figure\n",
    "plt.figure()\n",
    "plt.title(\"Comparison of Solutions to ODE with\\n Step Size h=%0.1f for Numerical Solution\"%(h1))\n",
    "plt.xlabel(\"t\")\n",
    "plt.ylabel(\"x\")\n",
    "plt.grid()\n",
    "plt.plot(t_num1,x1,\"b\", label=\"Numerical\")\n",
    "plt.plot(t_anal,x_anal,\"r\", label=\"Analytic\")\n",
    "plt.legend(loc=\"best\");\n",
    "\n",
    "print(\"The time taken to calculate each solution:\")\n",
    "print(\"Numerical with h=%0.2f: time=%0.5f\"%(h1,(time1)), \"seconds\") \n",
    "print(\"Analytic: time=%0.5f seconds\"%(time_anal))"
   ]
  },
  {
   "cell_type": "markdown",
   "metadata": {},
   "source": [
    "As can be seen, the result shows a solution that has the same trend as the one found analytically, but that approaches its asymptote at $x=0$ at a much quicker rate due to the large step size.\n",
    "\n",
    "We can further extend our analysis by calculating the maximum error when comparing our found numerical solution with the analytic one."
   ]
  },
  {
   "cell_type": "markdown",
   "metadata": {},
   "source": [
    "### Defining function to calculate maximum error of numerical solution"
   ]
  },
  {
   "cell_type": "code",
   "execution_count": 13,
   "metadata": {},
   "outputs": [],
   "source": [
    "def max_error(x_num,t_num):\n",
    "    \"\"\"Calculates the maximum error between two arrays representing the calculated \n",
    "    analytic and numerical solutions to the ordinary differential equation dx/dt=-Ax.\n",
    "    \n",
    "    Inputs:\n",
    "    · x_num (1D NumPy array): array of values for numerical solution.\n",
    "    · t_num (1D NumPy array): array of values for independent variable of \n",
    "    numerical solution.\n",
    "    \n",
    "    Output:\n",
    "    · max_error (float): maximum error of the numerical solution when comparing it\n",
    "    to the analytic result.\n",
    "    \"\"\"\n",
    "    adj_x_anal = np.exp(-t_num)\n",
    "    \n",
    "    errors = abs(np.subtract(adj_x_anal,x_num))\n",
    "    \n",
    "    max_error = max(errors)\n",
    "    \n",
    "    return max_error"
   ]
  },
  {
   "cell_type": "markdown",
   "metadata": {},
   "source": [
    "### Maximum error of Numerical Solution with Step Size $h=0.9$:"
   ]
  },
  {
   "cell_type": "code",
   "execution_count": 14,
   "metadata": {},
   "outputs": [
    {
     "name": "stdout",
     "output_type": "stream",
     "text": [
      "The maximum error between the two functions is:\n",
      " error = 0.3066\n"
     ]
    }
   ],
   "source": [
    "max_error1 = max_error(x1,t_num1) #calculate value fo max error\n",
    "\n",
    "print(\"The maximum error between the two functions is:\\n error = %0.4f\"%(max_error1))"
   ]
  },
  {
   "cell_type": "markdown",
   "metadata": {},
   "source": [
    "#### Step size $h=0.09$:\n",
    "\n",
    "We can now try to use a smaller step size (by an order of magnitude) of $h=0.09$ to see the effects on the acquired solution:"
   ]
  },
  {
   "cell_type": "code",
   "execution_count": 15,
   "metadata": {},
   "outputs": [
    {
     "data": {
      "image/png": "[encoded data removed]",
      "text/plain": [
       "<Figure size 432x288 with 1 Axes>"
      ]
     },
     "metadata": {
      "needs_background": "light"
     },
     "output_type": "display_data"
    },
    {
     "name": "stdout",
     "output_type": "stream",
     "text": [
      "The time taken to calculate each solution:\n",
      "Numerical with h=0.90: 0.00002 seconds\n",
      "Numerical with h=0.09: 0.00010 seconds\n",
      "Analytic: 0.00036 seconds\n",
      "\n",
      "The maximum error for h=0.9 is:\n",
      " error = 0.3066\n",
      "The maximum error for h=0.09 is:\n",
      " error = 0.0172\n"
     ]
    }
   ],
   "source": [
    "h2 = 0.09 #new, smaller, step size\n",
    "\n",
    "#calling our function to solve the differential equation\n",
    "t_num2,x2,time2 = eulers_method(t_min,t_max,h2,x0)\n",
    "max_error2 = max_error(x2,t_num2)\n",
    "\n",
    "#Plotting both solutions in a figure\n",
    "plt.figure()\n",
    "plt.title(\"Numerical solutions to ODE with Different\\n Step Size and its Analytic Solution\"%())\n",
    "plt.xlabel(\"t\")\n",
    "plt.ylabel(\"x\")\n",
    "plt.grid()\n",
    "plt.plot(t_num1,x1,\"b\", label=\"h=0.9\")\n",
    "plt.plot(t_num2,x2,\"c\", label=\"h=0.09\")\n",
    "plt.plot(t_anal,x_anal,\"r\", label=\"Analytic\")\n",
    "plt.legend(loc=\"best\")\n",
    "plt.show();\n",
    "\n",
    "print(\"The time taken to calculate each solution:\")\n",
    "print(\"Numerical with h=%0.2f: %0.5f\"%(h1,(time1)), \"seconds\") \n",
    "print(\"Numerical with h=%0.2f: %0.5f\"%(h2,(time2)), \"seconds\") \n",
    "print(\"Analytic: %0.5f seconds\"%(time_anal))\n",
    "\n",
    "print(\"\\nThe maximum error for h=%0.1f is:\\n error = %0.4f\"%(h1,max_error1))\n",
    "print(\"The maximum error for h=%0.2f is:\\n error = %0.4f\"%(h2,max_error2))"
   ]
  },
  {
   "cell_type": "markdown",
   "metadata": {},
   "source": [
    "### Discussion:\n",
    "\n",
    "As can be seen, just reducing the step size by an order of magnitude allows us to acquire a much more accurate solution. However, it is worth mentioning that since the algorithmic complexity of `eulers_method` is $O(n)$, by reducing the step size the program will run slower since it has to perform \"$n$\" iterations, where $n=len(t)$ is the discrete number of data points, which increases with smaller step size if the range of values of t is kept the same.\n",
    "\n",
    "It is important to consider the consequences of using a smaller step size, specially when using Euler´s method to approximate the solution of an ODE over a wide range of values, where the number of iterations needed to acquire the solution could result in a very long running time. \n",
    "\n",
    "Moreover, and as can be seen from the calculations above, the computation time for the numerical solutions using step sizes $h=0.9$ and $h=0.09$ is lower than that of the analytic solution (0.00002s (h=0.9) and 0.00010s (h=0.09) as compared to 0.00040s for the analytic solution**. This is probably due to the fact that the analytic solution has to call the imported library `numpy`). We will discuss this further after performing more trials with smaller step sizes. \n",
    "\n",
    "****Computation times may vary for different trials and/or computer processing powers**."
   ]
  },
  {
   "cell_type": "markdown",
   "metadata": {},
   "source": [
    "### Solutions using smaller step sizes:\n",
    "\n",
    "#### $h=0.001,0.0001,0.00001$:"
   ]
  },
  {
   "cell_type": "code",
   "execution_count": 28,
   "metadata": {},
   "outputs": [
    {
     "data": {
      "image/png": "[encoded data removed]",
      "text/plain": [
       "<Figure size 432x288 with 1 Axes>"
      ]
     },
     "metadata": {
      "needs_background": "light"
     },
     "output_type": "display_data"
    },
    {
     "name": "stdout",
     "output_type": "stream",
     "text": [
      "The maximum error for step size h=0.009 is:\n",
      " error = 1.661696e-03\n",
      "\n",
      "The time taken to calculate it was:\n",
      " time = 0.00068 seconds\n"
     ]
    },
    {
     "data": {
      "image/png": "[encoded data removed]",
      "text/plain": [
       "<Figure size 432x288 with 1 Axes>"
      ]
     },
     "metadata": {
      "needs_background": "light"
     },
     "output_type": "display_data"
    },
    {
     "name": "stdout",
     "output_type": "stream",
     "text": [
      "The maximum error for step size h=0.0009 is:\n",
      " error = 1.656079e-04\n",
      "\n",
      "The time taken to calculate it was:\n",
      " time = 0.006383 seconds\n"
     ]
    },
    {
     "data": {
      "image/png": "[encoded data removed]",
      "text/plain": [
       "<Figure size 432x288 with 1 Axes>"
      ]
     },
     "metadata": {
      "needs_background": "light"
     },
     "output_type": "display_data"
    },
    {
     "name": "stdout",
     "output_type": "stream",
     "text": [
      "The maximum error for step size h=0.00009 is:\n",
      " error = 1.655520e-05\n",
      "\n",
      "The time taken to calculate it was:\n",
      " time = 0.05960 seconds\n"
     ]
    }
   ],
   "source": [
    "#three different step sizes\n",
    "h3 = 0.009 \n",
    "h4 = 0.0009\n",
    "h5 = 0.00009\n",
    "\n",
    "#calling our function to solve the differential equation with their corresponding timers\n",
    "t3,x3,time3 = eulers_method(t_min,t_max,h3,x0)\n",
    "max_error3 = max_error(x3,t3)\n",
    "t4,x4,time4 = eulers_method(t_min,t_max,h4,x0)\n",
    "max_error4 = max_error(x4,t4)\n",
    "t5,x5,time5 = eulers_method(t_min,t_max,h5,x0)\n",
    "max_error5 = max_error(x5,t5)\n",
    "\n",
    "#Plotting both solutions in a figure\n",
    "plt.figure()\n",
    "plt.title(\"Numerical solution to ODE with h=%0.3f Step Size and Analytic Solution\"%h3)\n",
    "plt.xlabel(\"t\")\n",
    "plt.ylabel(\"x\")\n",
    "plt.grid()\n",
    "plt.plot(t3,x3,\"r\", label=\"h=%0.1f\"%h1)\n",
    "plt.plot(t_anal,x_anal,\"c\", label=\"Analytic\", alpha=0.5)\n",
    "plt.legend(loc=\"best\");\n",
    "plt.show()\n",
    "\n",
    "print(\"The maximum error for step size h={0:.3f} is:\\n error = {1:e}\".format(h3,max_error3))\n",
    "print(\"\\nThe time taken to calculate it was:\\n time = %0.5f seconds\"%time3)\n",
    "\n",
    "#Plotting both solutions in a figure\n",
    "plt.figure()\n",
    "plt.title(\"Numerical solution to ODE with h=%0.4f and Analytic Solution\"%h4)\n",
    "plt.xlabel(\"t\")\n",
    "plt.ylabel(\"x\")\n",
    "plt.grid()\n",
    "plt.plot(t4,x4,\"r\", label=\"h=%0.2f\"%h2)\n",
    "plt.plot(t_anal,x_anal,\"c\", label=\"Analytic\", alpha=0.5)\n",
    "plt.legend(loc=\"best\")\n",
    "plt.show();\n",
    "\n",
    "print(\"The maximum error for step size h={0:.4f} is:\\n error = {1:e}\".format(h4,max_error4))\n",
    "print(\"\\nThe time taken to calculate it was:\\n time = %0.6f seconds\"%time4)\n",
    "\n",
    "#Plotting both solutions in a figure\n",
    "plt.figure()\n",
    "plt.title(\"Numerical solution to ODE with h=%0.5f Step Size and Analytic Solution\"%h5)\n",
    "plt.xlabel(\"t\")\n",
    "plt.ylabel(\"x\")\n",
    "plt.grid()\n",
    "plt.plot(t5,x5,\"r-\", label=\"h=%0.3f\"%h3)\n",
    "plt.plot(t_anal,x_anal,\"c\", label=\"Analytic\", alpha=0.5)\n",
    "plt.legend(loc=\"best\")\n",
    "plt.show();\n",
    "\n",
    "print(\"The maximum error for step size h={0:.5f} is:\\n error = {1:e}\".format(h5,max_error5))\n",
    "print(\"\\nThe time taken to calculate it was:\\n time = %0.5f seconds\"%time5)\n"
   ]
  },
  {
   "cell_type": "markdown",
   "metadata": {},
   "source": [
    "### Discussion:\n",
    "\n",
    "As can be seen from the values displayed above, the maximum error between the calculated numerical and analytic solutions reduces by approximately the same factor fo 10 as the ste size $h$. "
   ]
  },
  {
   "cell_type": "markdown",
   "metadata": {},
   "source": [
    "### Comparison of Time Taken to Calculate Numerical Solutions for 5 Different Steps:\n",
    "\n",
    "We will now go on and compare the time taken to calculate each of the numerical solutions with different steps $h$. In the cell below we display each of their values."
   ]
  },
  {
   "cell_type": "code",
   "execution_count": 17,
   "metadata": {},
   "outputs": [
    {
     "name": "stdout",
     "output_type": "stream",
     "text": [
      "The time taken to calculate each solution:\n",
      "Numerical with h=0.9: 0.00002 seconds\n",
      "Numerical with h=0.09: 0.00010 seconds\n",
      "Numerical with h=0.009: 0.00069 seconds\n",
      "Numerical with h=0.0009: 0.00663 seconds\n",
      "Numerical with h=0.00009: 0.05855 seconds\n",
      "Analytic: time=0.00036 seconds\n"
     ]
    }
   ],
   "source": [
    "print(\"The time taken to calculate each solution:\")\n",
    "print(\"Numerical with h=%0.1f: %0.5f\"%(h1,(time1)), \"seconds\") \n",
    "print(\"Numerical with h=%0.2f: %0.5f\"%(h2,(time2)), \"seconds\") \n",
    "print(\"Numerical with h=%0.3f: %0.5f\"%(h3,(time3)), \"seconds\") \n",
    "print(\"Numerical with h=%0.4f: %0.5f\"%(h4,(time4)), \"seconds\") \n",
    "print(\"Numerical with h=%0.5f: %0.5f\"%(h5,(time5)), \"seconds\") \n",
    "print(\"Analytic: time=%0.5f seconds\"%(time_anal))\n",
    "\n"
   ]
  },
  {
   "cell_type": "markdown",
   "metadata": {},
   "source": [
    "As can be seen, the time values increase significantly as we reduce the step taken between iterations. It is also interesting to compare the factors by which the time values change as the step is reduced. Doing this for the first two steps ($h_1$ and $h_2$)**:\n",
    "\n",
    "$$ \\frac{h_2}{h_1} = 0.1 $$\n",
    "\n",
    "$$\\frac{time_2}{time_1} = \\frac{0.00026}{0.00018} = 1.44 $$\n",
    "\n",
    "Hence, as the step is reduced by a factor of 10, the time required to compute the solution increases by a factor of approximately 1.4. Repeating this for the rest of solutions (where the ratio between step sizes remains constant at 0.1) yields the results:\n",
    "\n",
    "$$\\frac{time_3}{time_2} = \\frac{0.00063}{0.00026} = 2.42  $$\n",
    "\n",
    "\n",
    "$$\\frac{time_4}{time_3} = \\frac{0.00497}{0.00063} = 7.89 $$\n",
    "\n",
    "\n",
    "$$\\frac{time_5}{time_4} = \\frac{0.06056}{0.00726} = 11.05  $$\n",
    "\n",
    "From these results, it can be seen how the computation time increases at an increasing rate as the step size decreases by a constant factor of 10.\n",
    "\n",
    "****Note that the values for the times may vary due to differences in the processing power of each computer. However, the above calculations should serve as an approximation of the factor by which these times increase as the step size is reduced.**"
   ]
  },
  {
   "cell_type": "markdown",
   "metadata": {},
   "source": [
    "## Plotting Computation Time against Step Size\n",
    "\n",
    "We will now attempt to plot the computation time against the step size in order to durther visualize their relationship. However, there is a limit to the extent in which we can do this. As was discovered before, the amount of time taken to compute the numerical solution of this ODE increases at an increasing rate as the step size is reduced by a factor of 10. For this reason, we will only be able to plot a limitted number of data points in a reasonable amount of computation time. "
   ]
  },
  {
   "cell_type": "code",
   "execution_count": 1,
   "metadata": {},
   "outputs": [
    {
     "ename": "NameError",
     "evalue": "name 'h1' is not defined",
     "output_type": "error",
     "traceback": [
      "\u001b[0;31m---------------------------------------------------------------------------\u001b[0m",
      "\u001b[0;31mNameError\u001b[0m                                 Traceback (most recent call last)",
      "\u001b[0;32m<ipython-input-1-8d79a5bbe418>\u001b[0m in \u001b[0;36m<module>\u001b[0;34m\u001b[0m\n\u001b[1;32m      8\u001b[0m \u001b[0;31m#takes approx. 1min to compute with 8 data points\u001b[0m\u001b[0;34m\u001b[0m\u001b[0;34m\u001b[0m\u001b[0;34m\u001b[0m\u001b[0m\n\u001b[1;32m      9\u001b[0m \u001b[0;32mwhile\u001b[0m \u001b[0mi\u001b[0m\u001b[0;34m<\u001b[0m\u001b[0;36m10\u001b[0m\u001b[0;34m:\u001b[0m\u001b[0;34m\u001b[0m\u001b[0;34m\u001b[0m\u001b[0m\n\u001b[0;32m---> 10\u001b[0;31m     \u001b[0mh\u001b[0m\u001b[0;34m.\u001b[0m\u001b[0mappend\u001b[0m\u001b[0;34m(\u001b[0m\u001b[0mh1\u001b[0m\u001b[0;34m)\u001b[0m\u001b[0;34m\u001b[0m\u001b[0;34m\u001b[0m\u001b[0m\n\u001b[0m\u001b[1;32m     11\u001b[0m     \u001b[0mtime\u001b[0m\u001b[0;34m.\u001b[0m\u001b[0mappend\u001b[0m\u001b[0;34m(\u001b[0m\u001b[0meulers_method\u001b[0m\u001b[0;34m(\u001b[0m\u001b[0mt_min\u001b[0m\u001b[0;34m,\u001b[0m\u001b[0mt_max\u001b[0m\u001b[0;34m,\u001b[0m\u001b[0mh1\u001b[0m\u001b[0;34m,\u001b[0m\u001b[0mx0\u001b[0m\u001b[0;34m)\u001b[0m\u001b[0;34m[\u001b[0m\u001b[0;36m2\u001b[0m\u001b[0;34m]\u001b[0m\u001b[0;34m)\u001b[0m\u001b[0;34m\u001b[0m\u001b[0;34m\u001b[0m\u001b[0m\n\u001b[1;32m     12\u001b[0m     \u001b[0mh1\u001b[0m \u001b[0;34m/=\u001b[0m \u001b[0;36m10\u001b[0m\u001b[0;34m\u001b[0m\u001b[0;34m\u001b[0m\u001b[0m\n",
      "\u001b[0;31mNameError\u001b[0m: name 'h1' is not defined"
     ]
    }
   ],
   "source": [
    "#initialize arrays for step size and time\n",
    "h = []\n",
    "time = []\n",
    "\n",
    "i = 0 #initialise iterative variable\n",
    "\n",
    "#add data to the above arrays using while loop \n",
    "#takes approx. 1min to compute with 8 data points\n",
    "while i<8:\n",
    "    h.append(h1)\n",
    "    time.append(eulers_method(t_min,t_max,h1,x0)[2])\n",
    "    h1 /= 10\n",
    "    i += 1\n",
    "\n",
    "#make plot\n",
    "plt.figure()\n",
    "plt.plot(h,time,\"r-\")\n",
    "plt.title(\"Computation Time Against Step Size when \\nusing Euler's Method to Solve ODE's\")\n",
    "plt.xlabel(\"Step size / h\")\n",
    "plt.ylabel(\"Computation Time (seconds)\")\n",
    "plt.grid()\n",
    "\n",
    "#apply logarithmic scale to h and time axes to visualize better\n",
    "plt.xscale(\"log\") \n",
    "plt.yscale(\"log\") \n",
    "plt.savefig(\"Figure_4.png\"); #save figure"
   ]
  },
  {
   "cell_type": "markdown",
   "metadata": {},
   "source": [
    "## Conclusion\n",
    "\n",
    "\n",
    "\n",
    "*In any case, a step size that is $\\approx$ 3 orders of magnitude lower than the scale of the axis/function in question should suffice for an accurate approximation."
   ]
  },
  {
   "cell_type": "code",
   "execution_count": null,
   "metadata": {},
   "outputs": [],
   "source": []
  }
 ],
 "metadata": {
  "kernelspec": {
   "display_name": "Python 3",
   "language": "python",
   "name": "python3"
  },
  "language_info": {
   "codemirror_mode": {
    "name": "ipython",
    "version": 3
   },
   "file_extension": ".py",
   "mimetype": "text/x-python",
   "name": "python",
   "nbconvert_exporter": "python",
   "pygments_lexer": "ipython3",
   "version": "3.7.4"
  }
 },
 "nbformat": 4,
 "nbformat_minor": 2
}
